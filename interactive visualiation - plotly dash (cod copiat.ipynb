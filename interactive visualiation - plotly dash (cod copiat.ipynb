{
    "cells": [
        {
            "metadata": {},
            "cell_type": "code",
            "source": "### Skills Network Labs (SN Labs) is a virtual lab environment used in this course\n### https://labs.cognitiveclass.ai/v2/tools/cloud-ide-kubernetes?ulid=ulid-86c283a8ce5e0f718bd45fee78022802a4ed2b95\n### is a visual code editor",
            "execution_count": null,
            "outputs": []
        },
        {
            "metadata": {},
            "cell_type": "code",
            "source": "# Import required libraries\nimport pandas as pd\nimport dash\nimport dash_html_components as html\nimport dash_core_components as dcc\nfrom dash.dependencies import Input, Output\nimport plotly.express as px",
            "execution_count": null,
            "outputs": []
        },
        {
            "metadata": {},
            "cell_type": "code",
            "source": "# Read the airline data into pandas dataframe\nspacex_df = pd.read_csv(\"spacex_launch_dash.csv\")\nmax_payload = spacex_df['Payload Mass (kg)'].max()\nmin_payload = spacex_df['Payload Mass (kg)'].min()",
            "execution_count": null,
            "outputs": []
        },
        {
            "metadata": {},
            "cell_type": "code",
            "source": "##    Preliminary activities\nentered_site='CCAFS LC-40'\nfiltered_df=spacex_df[spacex_df['Launch Site']== entered_site]\nfiltered_df=filtered_df.groupby(['Launch Site','class']).size().reset_index(name='class count')\nprint(filtered_df.head())\nfailure_count= filtered_df['class count'][0]\nsuccess_count= filtered_df['class count'][1]\ntotal_number_launch=filtered_df['class count'].sum()\nprint(total_number_launch)\n#fig=px.pie(filtered_df,values='class count',names='class',title=f\"Total Success Launches for site {entered_site}\")\n#fig=px.pie(filtered_df,values=[failure_count, success_count],names='class',title=f\"Total Success Launches for site {entered_site}\")\n#fig=px.pie(filtered_df,values=[failure_count, success_count],names=['Failures', 'Success'],       title=f\"Total Success Launches for site {entered_site}\")\n#fig=px.pie(filtered_df,values=[failure_count, success_count],names=['Failures', 'Success'], color=['Failures', 'Success'], color_discrete_map={'Failures':'red',\n#'Success':'green'}, color_discrete_sequence=px.colors.qualitative.Pastel, title=f\"<b>Launches outcome for site {entered_site}</b>\")\n#fig=px.pie(filtered_df,values=[failure_count, success_count],names=['Failures', 'Success'], color=['Failures', 'Success'], color_discrete_map={'Failures':'red',\n#'Success':'green'}, title=f\"<b>Launches outcome for site {entered_site}</b>\")\nfig=px.pie(filtered_df,values=[failure_count, success_count],names=['<b>Failure</b>', '<b>Success</b>'], color=['Failure', 'Success'], \n           color_discrete_map={'Failure':px.colors.qualitative.G10[1],\n           'Success':px.colors.qualitative.G10[5]}, \n           title=f\"<b>Launch attempts outcome (%) for site {entered_site}</b>  <br>Total Number of attempts= {total_number_launch} \")\n#px.colors.qualitative.Alphabet[6],\n#px.colors.qualitative.Alphabet[11]\nfig.show()",
            "execution_count": null,
            "outputs": []
        },
        {
            "metadata": {},
            "cell_type": "code",
            "source": "# Create a dash application\napp = dash.Dash(__name__)\n\n# Create an app layout\napp.layout = html.Div(children=[html.H1('SpaceX Launch Records Dashboard',\n                                        style={'textAlign': 'center', 'color': '#503D36',\n                                               'font-size': 40}),\n                                # TASK 1: Add a dropdown list to enable Launch Site selection\n                                # The default select value is for ALL sites\n                                # dcc.Dropdown(id='site-dropdown',...)\n                                dcc.Dropdown(id='site-dropdown',\n                options=[\n                    {'label': 'All Sites', 'value': 'ALL'},\n                    {'label': 'CCAFS LC-40', 'value': 'CCAFS LC-40'},\n                    {'label': 'VAFB SLC-4E', 'value': 'VAFB SLC-4E'},\n                    {'label': 'KSC LC-39A', 'value': 'KSC LC-39A'},\n                    {'label': 'CCAFS SLC-40', 'value': 'CCAFS SLC-40'}\n                ],\n                value='ALL',\n                placeholder=\"Select a Launch Site here\",\n                searchable=True\n                ),\n                                html.Br(),\n\n                                # TASK 2: Add a pie chart to show the total successful launches count for all sites\n                                # If a specific launch site was selected, show the Success vs. Failed counts for the site\n                                html.Div(dcc.Graph(id='success-pie-chart')),\n                                html.Br(),\n                                # Function decorator to specify function input and output\n                                # return the outcomes piechart for a selected site\n                                html.P(\"Payload range (Kg):\"),\n\n                                # TASK 3: Add a slider to select payload range\n                                #dcc.RangeSlider(id='payload-slider',...)\n                                dcc.RangeSlider(id='payload-slider', \n                                                min=0, max=10000, step=1000,\n                                                marks={0: '0', \n                                                      1000: '1000'}, #Marks: In Dash >= 2.1, they are autogenerated if not explicitly provided or turned off.\n                                    # marks={ 0: {'label': '0', 'style': {'color': '#77b0b1'}},\n                                    #           10000: {'label': '10000', 'style': {'color': '#f50'}}   },\n                                        value=[min_payload, max_payload]),\n\n                                # TASK 4: Add a scatter chart to show the correlation between payload and launch success\n                                html.Div(dcc.Graph(id='success-payload-scatter-chart')),\n                                ])",
            "execution_count": null,
            "outputs": []
        },
        {
            "metadata": {},
            "cell_type": "code",
            "source": "# TASK 2:\n# Add a callback function for `site-dropdown` as input, `success-pie-chart` as output\n@app.callback( Output(component_id='success-pie-chart', component_property='figure'),\n              Input(component_id='site-dropdown', component_property='value') )\n\ndef get_pie_chart(entered_site):\n    filtered_df = spacex_df\n    if entered_site == 'ALL':\n        fig = px.pie(filtered_df, values='class', \n        names='Launch Site', \n        title='<b>Share of Successful Launches by Site (%)</b>')\n        return fig\n    else:\n        filtered_df=spacex_df[spacex_df['Launch Site']== entered_site]\n        filtered_df=filtered_df.groupby(['Launch Site','class']).size().reset_index(name='class count')\n        \n        failure_count= filtered_df['class count'][0]\n        success_count= filtered_df['class count'][1]\n        total_number_launch=filtered_df['class count'].sum()\n        \n        fig=px.pie( filtered_df,values=[failure_count, success_count],\n                   names=['<b>Failure</b>', '<b>Success</b>'], color=['Failure', 'Success'], \n                   color_discrete_map={'Failure':px.colors.qualitative.G10[1], 'Success':px.colors.qualitative.G10[5]}, \n               title=f\"<b>Launch attempts outcome (%) for site {entered_site}</b><br>Total number of attempts= {total_number_launch}<br>Number of success= {success_count}<br>Number of failures= {failure_count}\"  )\n        return fig     \n",
            "execution_count": null,
            "outputs": []
        },
        {
            "metadata": {},
            "cell_type": "code",
            "source": "# TASK 4:\n# Add a callback function for `site-dropdown` and `payload-slider` as inputs, `success-payload-scatter-chart` as output\n\n@app.callback(Output(component_id='success-payload-scatter-chart',component_property='figure'),\n                [Input(component_id='site-dropdown',component_property='value'),\n                Input(component_id='payload-slider',component_property='value')])\n\ndef scatter(entered_site,payload):\n    filtered_df = spacex_df[spacex_df['Payload Mass (kg)'].between(payload[0],payload[1])]\n\n    \n    if entered_site=='ALL':\n        fig=px.scatter(filtered_df,x='Payload Mass (kg)',y='class',color='Booster Version Category',title='<b>Launch outcome v. Payload mass for all sites</b>')\n        fig.update_layout(\n            xaxis_title=\"<b>Payload Mass (kg)</b>\",\n            yaxis_title=\"<b>Class: Failure=0, Success=1</b>\",\n            legend_title=\"<b>Booster Version Category</b>\")\n        fig.update_traces(marker=dict(size=12,\n                              line=dict(width=2,\n                                        color='DarkSlateGrey')),\n                  selector=dict(mode='markers'))\n        \n        return fig\n    else:\n        fig=px.scatter(filtered_df[filtered_df['Launch Site']==entered_site],x='Payload Mass (kg)',y='class',color='Booster Version Category',\n                       title=f\"<b>Launch outcome v. Payload mass for site {entered_site} </b>\")\n        \n        \n        fig.update_layout(\n        xaxis_title=\"<b>Payload Mass (kg)</b>\",\n        yaxis_title=\"<b>Class: Failure=0, Success=1</b>\",\n        legend_title=\"<b>Booster Version Category</b>\")\n        fig.update_traces(marker=dict(size=12,\n                              line=dict(width=2,\n                                        color='DarkSlateGrey')),\n                  selector=dict(mode='markers'))\n        \n        return fig\n",
            "execution_count": null,
            "outputs": []
        },
        {
            "metadata": {},
            "cell_type": "code",
            "source": "# Run the app\nif __name__ == '__main__':\n    app.run_server()",
            "execution_count": null,
            "outputs": []
        },
        {
            "metadata": {},
            "cell_type": "code",
            "source": "",
            "execution_count": null,
            "outputs": []
        }
    ],
    "metadata": {
        "language_info": {
            "name": "python",
            "version": "3.10.9",
            "mimetype": "text/x-python",
            "codemirror_mode": {
                "name": "ipython",
                "version": 3
            },
            "pygments_lexer": "ipython3",
            "nbconvert_exporter": "python",
            "file_extension": ".py"
        },
        "kernelspec": {
            "name": "python3",
            "display_name": "Python 3.10",
            "language": "python"
        }
    },
    "nbformat": 4,
    "nbformat_minor": 4
}